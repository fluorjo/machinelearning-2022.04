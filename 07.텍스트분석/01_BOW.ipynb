{
  "nbformat": 4,
  "nbformat_minor": 0,
  "metadata": {
    "colab": {
      "name": "01.BOW.ipynb",
      "provenance": [],
      "collapsed_sections": []
    },
    "kernelspec": {
      "name": "python3",
      "display_name": "Python 3"
    },
    "language_info": {
      "name": "python"
    }
  },
  "cells": [
    {
      "cell_type": "markdown",
      "source": [
        "# Bag of Words\n",
        "1.CountVectorizer "
      ],
      "metadata": {
        "id": "tZzJs5Pjki4c"
      }
    },
    {
      "cell_type": "code",
      "source": [
        "from sklearn.feature_extraction.text import CountVectorizer"
      ],
      "metadata": {
        "id": "lGl2KwMTkqkK"
      },
      "execution_count": 1,
      "outputs": []
    },
    {
      "cell_type": "code",
      "source": [
        "text='The SMS Spam Collection is a set of SMS tagged messages that have been collected for SMS Spam research.'"
      ],
      "metadata": {
        "id": "sI2k9vtKkxXF"
      },
      "execution_count": 3,
      "outputs": []
    },
    {
      "cell_type": "code",
      "source": [
        "cvect=CountVectorizer()\n",
        "cvect.get_params()"
      ],
      "metadata": {
        "colab": {
          "base_uri": "https://localhost:8080/"
        },
        "id": "w3Op2MvslBfJ",
        "outputId": "190f9335-90d0-49fd-e9f5-e8784b69d83d"
      },
      "execution_count": 4,
      "outputs": [
        {
          "output_type": "execute_result",
          "data": {
            "text/plain": [
              "{'analyzer': 'word',\n",
              " 'binary': False,\n",
              " 'decode_error': 'strict',\n",
              " 'dtype': numpy.int64,\n",
              " 'encoding': 'utf-8',\n",
              " 'input': 'content',\n",
              " 'lowercase': True,\n",
              " 'max_df': 1.0,\n",
              " 'max_features': None,\n",
              " 'min_df': 1,\n",
              " 'ngram_range': (1, 1),\n",
              " 'preprocessor': None,\n",
              " 'stop_words': None,\n",
              " 'strip_accents': None,\n",
              " 'token_pattern': '(?u)\\\\b\\\\w\\\\w+\\\\b',\n",
              " 'tokenizer': None,\n",
              " 'vocabulary': None}"
            ]
          },
          "metadata": {},
          "execution_count": 4
        }
      ]
    },
    {
      "cell_type": "code",
      "source": [
        "output=cvect.fit_transform([text])\n",
        "output"
      ],
      "metadata": {
        "colab": {
          "base_uri": "https://localhost:8080/"
        },
        "id": "96ZWWq6ElJY5",
        "outputId": "38fae804-0bbd-4448-b2e2-79dd09d81633"
      },
      "execution_count": 6,
      "outputs": [
        {
          "output_type": "execute_result",
          "data": {
            "text/plain": [
              "<1x15 sparse matrix of type '<class 'numpy.int64'>'\n",
              "\twith 15 stored elements in Compressed Sparse Row format>"
            ]
          },
          "metadata": {},
          "execution_count": 6
        }
      ]
    },
    {
      "cell_type": "code",
      "source": [
        "output.toarray()"
      ],
      "metadata": {
        "colab": {
          "base_uri": "https://localhost:8080/"
        },
        "id": "ATuOK-vqlZgv",
        "outputId": "a463c3ae-49ba-40ab-b75c-05f2d2f00f90"
      },
      "execution_count": 7,
      "outputs": [
        {
          "output_type": "execute_result",
          "data": {
            "text/plain": [
              "array([[1, 1, 1, 1, 1, 1, 1, 1, 1, 1, 3, 2, 1, 1, 1]])"
            ]
          },
          "metadata": {},
          "execution_count": 7
        }
      ]
    },
    {
      "cell_type": "code",
      "source": [
        "cvect.vocabulary_"
      ],
      "metadata": {
        "colab": {
          "base_uri": "https://localhost:8080/"
        },
        "id": "UmheCQsTl3wQ",
        "outputId": "98dc8bd0-0f7b-478b-b31f-b0307150b13f"
      },
      "execution_count": 8,
      "outputs": [
        {
          "output_type": "execute_result",
          "data": {
            "text/plain": [
              "{'been': 0,\n",
              " 'collected': 1,\n",
              " 'collection': 2,\n",
              " 'for': 3,\n",
              " 'have': 4,\n",
              " 'is': 5,\n",
              " 'messages': 6,\n",
              " 'of': 7,\n",
              " 'research': 8,\n",
              " 'set': 9,\n",
              " 'sms': 10,\n",
              " 'spam': 11,\n",
              " 'tagged': 12,\n",
              " 'that': 13,\n",
              " 'the': 14}"
            ]
          },
          "metadata": {},
          "execution_count": 8
        }
      ]
    },
    {
      "cell_type": "markdown",
      "source": [
        "- 불용어 처리"
      ],
      "metadata": {
        "id": "sfBv4YUUmtc0"
      }
    },
    {
      "cell_type": "code",
      "source": [
        "#자체 제거하는 방법\n",
        "cvect=CountVectorizer(stop_words=['is','a','the'])\n",
        "print(cvect.fit_transform([text]).toarray())\n",
        "print(cvect.vocabulary_)"
      ],
      "metadata": {
        "colab": {
          "base_uri": "https://localhost:8080/"
        },
        "id": "BLRz-hZ4mDGV",
        "outputId": "6dbc2de2-e609-42a8-a0b8-26588ffddde3"
      },
      "execution_count": 9,
      "outputs": [
        {
          "output_type": "stream",
          "name": "stdout",
          "text": [
            "[[1 1 1 1 1 1 1 1 1 3 2 1 1]]\n",
            "{'sms': 9, 'spam': 10, 'collection': 2, 'set': 8, 'of': 6, 'tagged': 11, 'messages': 5, 'that': 12, 'have': 4, 'been': 0, 'collected': 1, 'for': 3, 'research': 7}\n"
          ]
        }
      ]
    },
    {
      "cell_type": "code",
      "source": [
        "#사이킷런의 불용어 사전 이용하는 방법\n",
        "cvect=CountVectorizer(stop_words='english')\n",
        "print(cvect.fit_transform([text]).toarray())\n",
        "print(cvect.vocabulary_)"
      ],
      "metadata": {
        "colab": {
          "base_uri": "https://localhost:8080/"
        },
        "id": "KEeejHpJm532",
        "outputId": "51d30cb1-791b-4555-bb52-305d17f968b3"
      },
      "execution_count": 10,
      "outputs": [
        {
          "output_type": "stream",
          "name": "stdout",
          "text": [
            "[[1 1 1 1 1 3 2 1]]\n",
            "{'sms': 5, 'spam': 6, 'collection': 1, 'set': 4, 'tagged': 7, 'messages': 2, 'collected': 0, 'research': 3}\n"
          ]
        }
      ]
    },
    {
      "cell_type": "code",
      "source": [
        "#NLTK 불용어 사용하는 방법\n",
        "import nltk\n",
        "nltk.download('stopwords')"
      ],
      "metadata": {
        "colab": {
          "base_uri": "https://localhost:8080/"
        },
        "id": "PH-VuIexnbjW",
        "outputId": "ccaac123-cc67-484c-8ca7-f76a7f7b05fb"
      },
      "execution_count": 11,
      "outputs": [
        {
          "output_type": "stream",
          "name": "stdout",
          "text": [
            "[nltk_data] Downloading package stopwords to /root/nltk_data...\n",
            "[nltk_data]   Unzipping corpora/stopwords.zip.\n"
          ]
        },
        {
          "output_type": "execute_result",
          "data": {
            "text/plain": [
              "True"
            ]
          },
          "metadata": {},
          "execution_count": 11
        }
      ]
    },
    {
      "cell_type": "code",
      "source": [
        "#NLTK 불용어 사용하는 방법\n",
        "from nltk.corpus import stopwords\n",
        "sw=stopwords.words('english')\n",
        "len(sw),type(sw)"
      ],
      "metadata": {
        "colab": {
          "base_uri": "https://localhost:8080/"
        },
        "id": "PTAgnC0Mn9M3",
        "outputId": "4336a4c3-3267-4152-991b-68d21f04ed8f"
      },
      "execution_count": 14,
      "outputs": [
        {
          "output_type": "execute_result",
          "data": {
            "text/plain": [
              "(179, list)"
            ]
          },
          "metadata": {},
          "execution_count": 14
        }
      ]
    },
    {
      "cell_type": "code",
      "source": [
        "#NLTK 불용어 사용하는 방법\n",
        "cvect=CountVectorizer(stop_words=sw)\n",
        "print(cvect.fit_transform([text]).toarray())\n",
        "print(cvect.vocabulary_)"
      ],
      "metadata": {
        "colab": {
          "base_uri": "https://localhost:8080/"
        },
        "id": "7mdjDh_2oKXe",
        "outputId": "9a3bbccf-f19a-4e52-b0ab-ed568349e0d5"
      },
      "execution_count": 15,
      "outputs": [
        {
          "output_type": "stream",
          "name": "stdout",
          "text": [
            "[[1 1 1 1 1 3 2 1]]\n",
            "{'sms': 5, 'spam': 6, 'collection': 1, 'set': 4, 'tagged': 7, 'messages': 2, 'collected': 0, 'research': 3}\n"
          ]
        }
      ]
    },
    {
      "cell_type": "markdown",
      "source": [
        "- 인덱스에 해당하는 단어가 무엇인지 알려주는 함수 만들기"
      ],
      "metadata": {
        "id": "z6KH--XYovF7"
      }
    },
    {
      "cell_type": "code",
      "source": [
        "voca = cvect.vocabulary_\n",
        "for key, value in voca.items():\n",
        "    print(key,value)"
      ],
      "metadata": {
        "colab": {
          "base_uri": "https://localhost:8080/"
        },
        "id": "BwCM5VBroX-d",
        "outputId": "b4047e33-4da1-4606-b282-830432da1986"
      },
      "execution_count": 16,
      "outputs": [
        {
          "output_type": "stream",
          "name": "stdout",
          "text": [
            "sms 5\n",
            "spam 6\n",
            "collection 1\n",
            "set 4\n",
            "tagged 7\n",
            "messages 2\n",
            "collected 0\n",
            "research 3\n"
          ]
        }
      ]
    },
    {
      "cell_type": "code",
      "source": [
        "def get_word(index, voca):\n",
        "    for key, value in voca.items():\n",
        "        if value == index:\n",
        "            return key"
      ],
      "metadata": {
        "id": "yruFNjjypHhR"
      },
      "execution_count": 17,
      "outputs": []
    },
    {
      "cell_type": "code",
      "source": [
        "get_word(3, cvect.vocabulary_)"
      ],
      "metadata": {
        "colab": {
          "base_uri": "https://localhost:8080/",
          "height": 36
        },
        "id": "NCHFR-EopYBy",
        "outputId": "6b010eaf-1e33-451a-c9d2-524edd83aab0"
      },
      "execution_count": 18,
      "outputs": [
        {
          "output_type": "execute_result",
          "data": {
            "text/plain": [
              "'research'"
            ],
            "application/vnd.google.colaboratory.intrinsic+json": {
              "type": "string"
            }
          },
          "metadata": {},
          "execution_count": 18
        }
      ]
    },
    {
      "cell_type": "markdown",
      "source": [
        "- Ngrams"
      ],
      "metadata": {
        "id": "G8q-uJv3to1U"
      }
    },
    {
      "cell_type": "code",
      "source": [
        "text=['I work at google' , 'I google ant work']\n",
        "cvect=CountVectorizer()\n",
        "print(cvect.fit_transform(text).toarray())\n",
        "print(cvect.vocabulary_)"
      ],
      "metadata": {
        "colab": {
          "base_uri": "https://localhost:8080/"
        },
        "id": "UmPaVMjnpgrW",
        "outputId": "1211a352-9229-4d77-c46a-c28148644d84"
      },
      "execution_count": 19,
      "outputs": [
        {
          "output_type": "stream",
          "name": "stdout",
          "text": [
            "[[0 1 1 1]\n",
            " [1 0 1 1]]\n",
            "{'work': 3, 'at': 1, 'google': 2, 'ant': 0}\n"
          ]
        }
      ]
    },
    {
      "cell_type": "code",
      "source": [
        "text=['I work at google' , 'I google ant work']\n",
        "cvect=CountVectorizer(ngram_range=(1,2))\n",
        "print(cvect.fit_transform(text).toarray())\n",
        "print(cvect.vocabulary_)"
      ],
      "metadata": {
        "colab": {
          "base_uri": "https://localhost:8080/"
        },
        "id": "wdISBV3Ft_l_",
        "outputId": "8410de95-bf3c-40d5-f290-c40bed657b6c"
      },
      "execution_count": 20,
      "outputs": [
        {
          "output_type": "stream",
          "name": "stdout",
          "text": [
            "[[0 0 1 1 1 0 1 1]\n",
            " [1 1 0 0 1 1 1 0]]\n",
            "{'work': 6, 'at': 2, 'google': 4, 'work at': 7, 'at google': 3, 'ant': 0, 'google ant': 5, 'ant work': 1}\n"
          ]
        }
      ]
    },
    {
      "cell_type": "markdown",
      "source": [
        "3. Tfidvectorizer(Team Frequency, Inverse Document Frequency)"
      ],
      "metadata": {
        "id": "LB8bkjmMt4lN"
      }
    },
    {
      "cell_type": "code",
      "source": [
        "text=['The SMS Spam Collection is a set of SMS tagged messages that have been collected for SMS Spam research.', 'It contains one set of SMS messages in English of 5,574 messages, tagged acording being ham (legitimate) or spam.']\n"
      ],
      "metadata": {
        "id": "ZO-LRp-MurD1"
      },
      "execution_count": 21,
      "outputs": []
    },
    {
      "cell_type": "code",
      "source": [
        "from sklearn.feature_extraction.text import TfidfVectorizer\n",
        "tvect=TfidfVectorizer(stop_words='english')\n",
        "print(tvect.fit_transform(text).toarray())\n"
      ],
      "metadata": {
        "colab": {
          "base_uri": "https://localhost:8080/"
        },
        "id": "M-Vo_O_SurAu",
        "outputId": "66f0a1a5-7fc2-4604-aa3e-8689157f7315"
      },
      "execution_count": 23,
      "outputs": [
        {
          "output_type": "stream",
          "name": "stdout",
          "text": [
            "[[0.         0.         0.30015142 0.30015142 0.         0.\n",
            "  0.         0.         0.21356021 0.30015142 0.21356021 0.64068062\n",
            "  0.42712041 0.21356021]\n",
            " [0.31544091 0.31544091 0.         0.         0.31544091 0.31544091\n",
            "  0.31544091 0.31544091 0.44887761 0.         0.2244388  0.2244388\n",
            "  0.2244388  0.2244388 ]]\n"
          ]
        }
      ]
    },
    {
      "cell_type": "code",
      "source": [
        "cvect=CountVectorizer(stop_words='english')\n",
        "print(cvect.fit_transform(text).toarray())\n",
        "print(cvect.vocabulary_)"
      ],
      "metadata": {
        "colab": {
          "base_uri": "https://localhost:8080/"
        },
        "id": "uTEqQRkCvGzL",
        "outputId": "40b7dff1-ee5b-434d-8a2a-305350586dc5"
      },
      "execution_count": 24,
      "outputs": [
        {
          "output_type": "stream",
          "name": "stdout",
          "text": [
            "[[0 0 1 1 0 0 0 0 1 1 1 3 2 1]\n",
            " [1 1 0 0 1 1 1 1 2 0 1 1 1 1]]\n",
            "{'sms': 11, 'spam': 12, 'collection': 3, 'set': 10, 'tagged': 13, 'messages': 8, 'collected': 2, 'research': 9, 'contains': 4, 'english': 5, '574': 0, 'acording': 1, 'ham': 6, 'legitimate': 7}\n"
          ]
        }
      ]
    }
  ]
}