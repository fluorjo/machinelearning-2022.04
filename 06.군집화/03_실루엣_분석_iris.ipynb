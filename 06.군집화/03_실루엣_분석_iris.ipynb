{
  "nbformat": 4,
  "nbformat_minor": 0,
  "metadata": {
    "colab": {
      "name": "03.실루엣 분석.ipynb",
      "provenance": [],
      "collapsed_sections": []
    },
    "kernelspec": {
      "name": "python3",
      "display_name": "Python 3"
    },
    "language_info": {
      "name": "python"
    }
  },
  "cells": [
    {
      "cell_type": "markdown",
      "source": [
        "# 실루엣 분석 - 군집 평가"
      ],
      "metadata": {
        "id": "kuikC-XVtQNZ"
      }
    },
    {
      "cell_type": "markdown",
      "source": [
        "- Iris data로 군집화 평가"
      ],
      "metadata": {
        "id": "MmCKuT2ItcDU"
      }
    },
    {
      "cell_type": "code",
      "execution_count": 2,
      "metadata": {
        "id": "VAEpy1HntNJF"
      },
      "outputs": [],
      "source": [
        "import numpy as np\n",
        "import pandas as pd\n",
        "import seaborn as sns\n",
        "import matplotlib.pyplot as plt\n",
        "from sklearn.datasets import load_iris\n",
        "from sklearn.preprocessing import StandardScaler\n",
        "from sklearn.decomposition import PCA\n",
        "from sklearn.cluster import KMeans\n",
        "\n",
        "iris=load_iris()\n",
        "iris_std=StandardScaler().fit_transform(iris.data)\n",
        "pca=PCA(n_components=2)\n",
        "iris_pca=pca.fit_transform(iris_std)"
      ]
    },
    {
      "cell_type": "code",
      "source": [
        "kmeans=KMeans(n_clusters=3,random_state=2022)\n",
        "kmeans.fit(iris_std)"
      ],
      "metadata": {
        "colab": {
          "base_uri": "https://localhost:8080/"
        },
        "id": "fkOtoBGGuUYr",
        "outputId": "7e97884e-56ed-49aa-9561-29a6bcdaf4e1"
      },
      "execution_count": 3,
      "outputs": [
        {
          "output_type": "execute_result",
          "data": {
            "text/plain": [
              "KMeans(n_clusters=3, random_state=2022)"
            ]
          },
          "metadata": {},
          "execution_count": 3
        }
      ]
    },
    {
      "cell_type": "code",
      "source": [
        "df=pd.DataFrame(iris.data,columns=['sl','sw','pl','pw'])\n",
        "df['target']=iris.target\n",
        "df['cluster']=kmeans.labels_\n",
        "df.head()"
      ],
      "metadata": {
        "colab": {
          "base_uri": "https://localhost:8080/",
          "height": 206
        },
        "id": "A0iP7-WwuiUG",
        "outputId": "530d3437-f0e3-4e2a-c35f-31c3ba6614ba"
      },
      "execution_count": 4,
      "outputs": [
        {
          "output_type": "execute_result",
          "data": {
            "text/plain": [
              "    sl   sw   pl   pw  target  cluster\n",
              "0  5.1  3.5  1.4  0.2       0        1\n",
              "1  4.9  3.0  1.4  0.2       0        1\n",
              "2  4.7  3.2  1.3  0.2       0        1\n",
              "3  4.6  3.1  1.5  0.2       0        1\n",
              "4  5.0  3.6  1.4  0.2       0        1"
            ],
            "text/html": [
              "\n",
              "  <div id=\"df-6444a429-1ba1-46e4-915a-6a1d1a7cfb45\">\n",
              "    <div class=\"colab-df-container\">\n",
              "      <div>\n",
              "<style scoped>\n",
              "    .dataframe tbody tr th:only-of-type {\n",
              "        vertical-align: middle;\n",
              "    }\n",
              "\n",
              "    .dataframe tbody tr th {\n",
              "        vertical-align: top;\n",
              "    }\n",
              "\n",
              "    .dataframe thead th {\n",
              "        text-align: right;\n",
              "    }\n",
              "</style>\n",
              "<table border=\"1\" class=\"dataframe\">\n",
              "  <thead>\n",
              "    <tr style=\"text-align: right;\">\n",
              "      <th></th>\n",
              "      <th>sl</th>\n",
              "      <th>sw</th>\n",
              "      <th>pl</th>\n",
              "      <th>pw</th>\n",
              "      <th>target</th>\n",
              "      <th>cluster</th>\n",
              "    </tr>\n",
              "  </thead>\n",
              "  <tbody>\n",
              "    <tr>\n",
              "      <th>0</th>\n",
              "      <td>5.1</td>\n",
              "      <td>3.5</td>\n",
              "      <td>1.4</td>\n",
              "      <td>0.2</td>\n",
              "      <td>0</td>\n",
              "      <td>1</td>\n",
              "    </tr>\n",
              "    <tr>\n",
              "      <th>1</th>\n",
              "      <td>4.9</td>\n",
              "      <td>3.0</td>\n",
              "      <td>1.4</td>\n",
              "      <td>0.2</td>\n",
              "      <td>0</td>\n",
              "      <td>1</td>\n",
              "    </tr>\n",
              "    <tr>\n",
              "      <th>2</th>\n",
              "      <td>4.7</td>\n",
              "      <td>3.2</td>\n",
              "      <td>1.3</td>\n",
              "      <td>0.2</td>\n",
              "      <td>0</td>\n",
              "      <td>1</td>\n",
              "    </tr>\n",
              "    <tr>\n",
              "      <th>3</th>\n",
              "      <td>4.6</td>\n",
              "      <td>3.1</td>\n",
              "      <td>1.5</td>\n",
              "      <td>0.2</td>\n",
              "      <td>0</td>\n",
              "      <td>1</td>\n",
              "    </tr>\n",
              "    <tr>\n",
              "      <th>4</th>\n",
              "      <td>5.0</td>\n",
              "      <td>3.6</td>\n",
              "      <td>1.4</td>\n",
              "      <td>0.2</td>\n",
              "      <td>0</td>\n",
              "      <td>1</td>\n",
              "    </tr>\n",
              "  </tbody>\n",
              "</table>\n",
              "</div>\n",
              "      <button class=\"colab-df-convert\" onclick=\"convertToInteractive('df-6444a429-1ba1-46e4-915a-6a1d1a7cfb45')\"\n",
              "              title=\"Convert this dataframe to an interactive table.\"\n",
              "              style=\"display:none;\">\n",
              "        \n",
              "  <svg xmlns=\"http://www.w3.org/2000/svg\" height=\"24px\"viewBox=\"0 0 24 24\"\n",
              "       width=\"24px\">\n",
              "    <path d=\"M0 0h24v24H0V0z\" fill=\"none\"/>\n",
              "    <path d=\"M18.56 5.44l.94 2.06.94-2.06 2.06-.94-2.06-.94-.94-2.06-.94 2.06-2.06.94zm-11 1L8.5 8.5l.94-2.06 2.06-.94-2.06-.94L8.5 2.5l-.94 2.06-2.06.94zm10 10l.94 2.06.94-2.06 2.06-.94-2.06-.94-.94-2.06-.94 2.06-2.06.94z\"/><path d=\"M17.41 7.96l-1.37-1.37c-.4-.4-.92-.59-1.43-.59-.52 0-1.04.2-1.43.59L10.3 9.45l-7.72 7.72c-.78.78-.78 2.05 0 2.83L4 21.41c.39.39.9.59 1.41.59.51 0 1.02-.2 1.41-.59l7.78-7.78 2.81-2.81c.8-.78.8-2.07 0-2.86zM5.41 20L4 18.59l7.72-7.72 1.47 1.35L5.41 20z\"/>\n",
              "  </svg>\n",
              "      </button>\n",
              "      \n",
              "  <style>\n",
              "    .colab-df-container {\n",
              "      display:flex;\n",
              "      flex-wrap:wrap;\n",
              "      gap: 12px;\n",
              "    }\n",
              "\n",
              "    .colab-df-convert {\n",
              "      background-color: #E8F0FE;\n",
              "      border: none;\n",
              "      border-radius: 50%;\n",
              "      cursor: pointer;\n",
              "      display: none;\n",
              "      fill: #1967D2;\n",
              "      height: 32px;\n",
              "      padding: 0 0 0 0;\n",
              "      width: 32px;\n",
              "    }\n",
              "\n",
              "    .colab-df-convert:hover {\n",
              "      background-color: #E2EBFA;\n",
              "      box-shadow: 0px 1px 2px rgba(60, 64, 67, 0.3), 0px 1px 3px 1px rgba(60, 64, 67, 0.15);\n",
              "      fill: #174EA6;\n",
              "    }\n",
              "\n",
              "    [theme=dark] .colab-df-convert {\n",
              "      background-color: #3B4455;\n",
              "      fill: #D2E3FC;\n",
              "    }\n",
              "\n",
              "    [theme=dark] .colab-df-convert:hover {\n",
              "      background-color: #434B5C;\n",
              "      box-shadow: 0px 1px 3px 1px rgba(0, 0, 0, 0.15);\n",
              "      filter: drop-shadow(0px 1px 2px rgba(0, 0, 0, 0.3));\n",
              "      fill: #FFFFFF;\n",
              "    }\n",
              "  </style>\n",
              "\n",
              "      <script>\n",
              "        const buttonEl =\n",
              "          document.querySelector('#df-6444a429-1ba1-46e4-915a-6a1d1a7cfb45 button.colab-df-convert');\n",
              "        buttonEl.style.display =\n",
              "          google.colab.kernel.accessAllowed ? 'block' : 'none';\n",
              "\n",
              "        async function convertToInteractive(key) {\n",
              "          const element = document.querySelector('#df-6444a429-1ba1-46e4-915a-6a1d1a7cfb45');\n",
              "          const dataTable =\n",
              "            await google.colab.kernel.invokeFunction('convertToInteractive',\n",
              "                                                     [key], {});\n",
              "          if (!dataTable) return;\n",
              "\n",
              "          const docLinkHtml = 'Like what you see? Visit the ' +\n",
              "            '<a target=\"_blank\" href=https://colab.research.google.com/notebooks/data_table.ipynb>data table notebook</a>'\n",
              "            + ' to learn more about interactive tables.';\n",
              "          element.innerHTML = '';\n",
              "          dataTable['output_type'] = 'display_data';\n",
              "          await google.colab.output.renderOutput(dataTable, element);\n",
              "          const docLink = document.createElement('div');\n",
              "          docLink.innerHTML = docLinkHtml;\n",
              "          element.appendChild(docLink);\n",
              "        }\n",
              "      </script>\n",
              "    </div>\n",
              "  </div>\n",
              "  "
            ]
          },
          "metadata": {},
          "execution_count": 4
        }
      ]
    },
    {
      "cell_type": "markdown",
      "source": [
        "- 실루엣 계수"
      ],
      "metadata": {
        "id": "Oev-HAVbu50F"
      }
    },
    {
      "cell_type": "code",
      "source": [
        "from sklearn.metrics import silhouette_samples, silhouette_score\n",
        "\n",
        "sil_samples=silhouette_samples(iris_std,kmeans.labels_)\n",
        "df['실루엣 계수']=sil_samples\n",
        "df.head()"
      ],
      "metadata": {
        "colab": {
          "base_uri": "https://localhost:8080/",
          "height": 206
        },
        "id": "ZVII1aVGu9lt",
        "outputId": "6e4b9cf3-e7a1-45ab-a037-f61369bd0917"
      },
      "execution_count": 5,
      "outputs": [
        {
          "output_type": "execute_result",
          "data": {
            "text/plain": [
              "    sl   sw   pl   pw  target  cluster    실루엣 계수\n",
              "0  5.1  3.5  1.4  0.2       0        1  0.734195\n",
              "1  4.9  3.0  1.4  0.2       0        1  0.568274\n",
              "2  4.7  3.2  1.3  0.2       0        1  0.677547\n",
              "3  4.6  3.1  1.5  0.2       0        1  0.620502\n",
              "4  5.0  3.6  1.4  0.2       0        1  0.728474"
            ],
            "text/html": [
              "\n",
              "  <div id=\"df-4579377c-1867-4f43-8973-4b9f21cd0718\">\n",
              "    <div class=\"colab-df-container\">\n",
              "      <div>\n",
              "<style scoped>\n",
              "    .dataframe tbody tr th:only-of-type {\n",
              "        vertical-align: middle;\n",
              "    }\n",
              "\n",
              "    .dataframe tbody tr th {\n",
              "        vertical-align: top;\n",
              "    }\n",
              "\n",
              "    .dataframe thead th {\n",
              "        text-align: right;\n",
              "    }\n",
              "</style>\n",
              "<table border=\"1\" class=\"dataframe\">\n",
              "  <thead>\n",
              "    <tr style=\"text-align: right;\">\n",
              "      <th></th>\n",
              "      <th>sl</th>\n",
              "      <th>sw</th>\n",
              "      <th>pl</th>\n",
              "      <th>pw</th>\n",
              "      <th>target</th>\n",
              "      <th>cluster</th>\n",
              "      <th>실루엣 계수</th>\n",
              "    </tr>\n",
              "  </thead>\n",
              "  <tbody>\n",
              "    <tr>\n",
              "      <th>0</th>\n",
              "      <td>5.1</td>\n",
              "      <td>3.5</td>\n",
              "      <td>1.4</td>\n",
              "      <td>0.2</td>\n",
              "      <td>0</td>\n",
              "      <td>1</td>\n",
              "      <td>0.734195</td>\n",
              "    </tr>\n",
              "    <tr>\n",
              "      <th>1</th>\n",
              "      <td>4.9</td>\n",
              "      <td>3.0</td>\n",
              "      <td>1.4</td>\n",
              "      <td>0.2</td>\n",
              "      <td>0</td>\n",
              "      <td>1</td>\n",
              "      <td>0.568274</td>\n",
              "    </tr>\n",
              "    <tr>\n",
              "      <th>2</th>\n",
              "      <td>4.7</td>\n",
              "      <td>3.2</td>\n",
              "      <td>1.3</td>\n",
              "      <td>0.2</td>\n",
              "      <td>0</td>\n",
              "      <td>1</td>\n",
              "      <td>0.677547</td>\n",
              "    </tr>\n",
              "    <tr>\n",
              "      <th>3</th>\n",
              "      <td>4.6</td>\n",
              "      <td>3.1</td>\n",
              "      <td>1.5</td>\n",
              "      <td>0.2</td>\n",
              "      <td>0</td>\n",
              "      <td>1</td>\n",
              "      <td>0.620502</td>\n",
              "    </tr>\n",
              "    <tr>\n",
              "      <th>4</th>\n",
              "      <td>5.0</td>\n",
              "      <td>3.6</td>\n",
              "      <td>1.4</td>\n",
              "      <td>0.2</td>\n",
              "      <td>0</td>\n",
              "      <td>1</td>\n",
              "      <td>0.728474</td>\n",
              "    </tr>\n",
              "  </tbody>\n",
              "</table>\n",
              "</div>\n",
              "      <button class=\"colab-df-convert\" onclick=\"convertToInteractive('df-4579377c-1867-4f43-8973-4b9f21cd0718')\"\n",
              "              title=\"Convert this dataframe to an interactive table.\"\n",
              "              style=\"display:none;\">\n",
              "        \n",
              "  <svg xmlns=\"http://www.w3.org/2000/svg\" height=\"24px\"viewBox=\"0 0 24 24\"\n",
              "       width=\"24px\">\n",
              "    <path d=\"M0 0h24v24H0V0z\" fill=\"none\"/>\n",
              "    <path d=\"M18.56 5.44l.94 2.06.94-2.06 2.06-.94-2.06-.94-.94-2.06-.94 2.06-2.06.94zm-11 1L8.5 8.5l.94-2.06 2.06-.94-2.06-.94L8.5 2.5l-.94 2.06-2.06.94zm10 10l.94 2.06.94-2.06 2.06-.94-2.06-.94-.94-2.06-.94 2.06-2.06.94z\"/><path d=\"M17.41 7.96l-1.37-1.37c-.4-.4-.92-.59-1.43-.59-.52 0-1.04.2-1.43.59L10.3 9.45l-7.72 7.72c-.78.78-.78 2.05 0 2.83L4 21.41c.39.39.9.59 1.41.59.51 0 1.02-.2 1.41-.59l7.78-7.78 2.81-2.81c.8-.78.8-2.07 0-2.86zM5.41 20L4 18.59l7.72-7.72 1.47 1.35L5.41 20z\"/>\n",
              "  </svg>\n",
              "      </button>\n",
              "      \n",
              "  <style>\n",
              "    .colab-df-container {\n",
              "      display:flex;\n",
              "      flex-wrap:wrap;\n",
              "      gap: 12px;\n",
              "    }\n",
              "\n",
              "    .colab-df-convert {\n",
              "      background-color: #E8F0FE;\n",
              "      border: none;\n",
              "      border-radius: 50%;\n",
              "      cursor: pointer;\n",
              "      display: none;\n",
              "      fill: #1967D2;\n",
              "      height: 32px;\n",
              "      padding: 0 0 0 0;\n",
              "      width: 32px;\n",
              "    }\n",
              "\n",
              "    .colab-df-convert:hover {\n",
              "      background-color: #E2EBFA;\n",
              "      box-shadow: 0px 1px 2px rgba(60, 64, 67, 0.3), 0px 1px 3px 1px rgba(60, 64, 67, 0.15);\n",
              "      fill: #174EA6;\n",
              "    }\n",
              "\n",
              "    [theme=dark] .colab-df-convert {\n",
              "      background-color: #3B4455;\n",
              "      fill: #D2E3FC;\n",
              "    }\n",
              "\n",
              "    [theme=dark] .colab-df-convert:hover {\n",
              "      background-color: #434B5C;\n",
              "      box-shadow: 0px 1px 3px 1px rgba(0, 0, 0, 0.15);\n",
              "      filter: drop-shadow(0px 1px 2px rgba(0, 0, 0, 0.3));\n",
              "      fill: #FFFFFF;\n",
              "    }\n",
              "  </style>\n",
              "\n",
              "      <script>\n",
              "        const buttonEl =\n",
              "          document.querySelector('#df-4579377c-1867-4f43-8973-4b9f21cd0718 button.colab-df-convert');\n",
              "        buttonEl.style.display =\n",
              "          google.colab.kernel.accessAllowed ? 'block' : 'none';\n",
              "\n",
              "        async function convertToInteractive(key) {\n",
              "          const element = document.querySelector('#df-4579377c-1867-4f43-8973-4b9f21cd0718');\n",
              "          const dataTable =\n",
              "            await google.colab.kernel.invokeFunction('convertToInteractive',\n",
              "                                                     [key], {});\n",
              "          if (!dataTable) return;\n",
              "\n",
              "          const docLinkHtml = 'Like what you see? Visit the ' +\n",
              "            '<a target=\"_blank\" href=https://colab.research.google.com/notebooks/data_table.ipynb>data table notebook</a>'\n",
              "            + ' to learn more about interactive tables.';\n",
              "          element.innerHTML = '';\n",
              "          dataTable['output_type'] = 'display_data';\n",
              "          await google.colab.output.renderOutput(dataTable, element);\n",
              "          const docLink = document.createElement('div');\n",
              "          docLink.innerHTML = docLinkHtml;\n",
              "          element.appendChild(docLink);\n",
              "        }\n",
              "      </script>\n",
              "    </div>\n",
              "  </div>\n",
              "  "
            ]
          },
          "metadata": {},
          "execution_count": 5
        }
      ]
    },
    {
      "cell_type": "markdown",
      "source": [
        "- 실루엣 스코어 = 실루엣 계수의 평균"
      ],
      "metadata": {
        "id": "gYv1M1AfvkKn"
      }
    },
    {
      "cell_type": "code",
      "source": [
        "silhouette_score(iris_std,kmeans.labels_)"
      ],
      "metadata": {
        "colab": {
          "base_uri": "https://localhost:8080/"
        },
        "id": "EMjKo7HsvYt1",
        "outputId": "0b01a1f3-5a3e-489a-c7cf-73dd0819eea5"
      },
      "execution_count": 7,
      "outputs": [
        {
          "output_type": "execute_result",
          "data": {
            "text/plain": [
              "0.45994823920518635"
            ]
          },
          "metadata": {},
          "execution_count": 7
        }
      ]
    },
    {
      "cell_type": "code",
      "source": [
        "df['실루엣 계수'].mean()"
      ],
      "metadata": {
        "colab": {
          "base_uri": "https://localhost:8080/"
        },
        "id": "LTfmqKK_vuLu",
        "outputId": "dca30098-9676-4f31-ebb4-6334d4bb9a65"
      },
      "execution_count": 8,
      "outputs": [
        {
          "output_type": "execute_result",
          "data": {
            "text/plain": [
              "0.45994823920518646"
            ]
          },
          "metadata": {},
          "execution_count": 8
        }
      ]
    },
    {
      "cell_type": "code",
      "source": [
        "df.groupby('cluster')['실루엣 계수'].mean()\n",
        "#1은 잘 나눠졌으나 0/2는 잘 안 나눠졌다. "
      ],
      "metadata": {
        "colab": {
          "base_uri": "https://localhost:8080/"
        },
        "id": "2W1C-xNhvz1u",
        "outputId": "3f436bf2-b14c-4e5f-d27c-66898ac513e8"
      },
      "execution_count": 9,
      "outputs": [
        {
          "output_type": "execute_result",
          "data": {
            "text/plain": [
              "cluster\n",
              "0    0.393377\n",
              "1    0.636316\n",
              "2    0.347392\n",
              "Name: 실루엣 계수, dtype: float64"
            ]
          },
          "metadata": {},
          "execution_count": 9
        }
      ]
    },
    {
      "cell_type": "markdown",
      "source": [
        "![image.png](data:image/png;base64,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)"
      ],
      "metadata": {
        "id": "m8OyTiCPwjwC"
      }
    },
    {
      "cell_type": "markdown",
      "source": [
        "- 실루엣 계수 시각화"
      ],
      "metadata": {
        "id": "0E4sUYn5wo3f"
      }
    },
    {
      "cell_type": "code",
      "source": [
        "from google.colab import files\n",
        "up =files.upload()"
      ],
      "metadata": {
        "colab": {
          "resources": {
            "http://localhost:8080/nbextensions/google.colab/files.js": {
              "data": "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",
              "ok": true,
              "headers": [
                [
                  "content-type",
                  "application/javascript"
                ]
              ],
              "status": 200,
              "status_text": ""
            }
          },
          "base_uri": "https://localhost:8080/",
          "height": 78
        },
        "id": "HWAzOeFFwEoA",
        "outputId": "ecc4ce88-2629-4de6-b750-390f3ddc5a20"
      },
      "execution_count": 10,
      "outputs": [
        {
          "output_type": "display_data",
          "data": {
            "text/plain": [
              "<IPython.core.display.HTML object>"
            ],
            "text/html": [
              "\n",
              "     <input type=\"file\" id=\"files-e3f3bd25-b770-4184-afdf-b209529e6568\" name=\"files[]\" multiple disabled\n",
              "        style=\"border:none\" />\n",
              "     <output id=\"result-e3f3bd25-b770-4184-afdf-b209529e6568\">\n",
              "      Upload widget is only available when the cell has been executed in the\n",
              "      current browser session. Please rerun this cell to enable.\n",
              "      </output>\n",
              "      <script src=\"/nbextensions/google.colab/files.js\"></script> "
            ]
          },
          "metadata": {}
        },
        {
          "output_type": "stream",
          "name": "stdout",
          "text": [
            "Saving visualize.py to visualize.py\n"
          ]
        }
      ]
    },
    {
      "cell_type": "code",
      "source": [
        "from visualize import visualize_silhouette\n",
        "visualize_silhouette([2,3,4,5],iris_std)"
      ],
      "metadata": {
        "colab": {
          "base_uri": "https://localhost:8080/",
          "height": 216
        },
        "id": "-ZYnTJOxwv09",
        "outputId": "215de6d2-95dd-4b9d-fd38-709618d7bc08"
      },
      "execution_count": 12,
      "outputs": [
        {
          "output_type": "display_data",
          "data": {
            "text/plain": [
              "<Figure size 1152x288 with 4 Axes>"
            ],
            "image/png": "[encoded data removed]"
          },
          "metadata": {
            "needs_background": "light"
          }
        }
      ]
    },
    {
      "cell_type": "code",
      "source": [
        ""
      ],
      "metadata": {
        "id": "QB2rF0VUxAwK"
      },
      "execution_count": null,
      "outputs": []
    }
  ]
}