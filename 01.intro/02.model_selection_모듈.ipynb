{
  "nbformat": 4,
  "nbformat_minor": 0,
  "metadata": {
    "colab": {
      "name": "2.model selection 모듈.ipynb",
      "provenance": [],
      "collapsed_sections": []
    },
    "kernelspec": {
      "name": "python3",
      "display_name": "Python 3"
    },
    "language_info": {
      "name": "python"
    }
  },
  "cells": [
    {
      "cell_type": "markdown",
      "source": [
        "# model selection 모듈"
      ],
      "metadata": {
        "id": "eUWvGEvlvAyh"
      }
    },
    {
      "cell_type": "markdown",
      "source": [
        "*   훈련 데이터와 테스트 데이터 분리 안 하고 머신러닝 해버리면?\n"
      ],
      "metadata": {
        "id": "8159IqEhvMTg"
      }
    },
    {
      "cell_type": "code",
      "execution_count": 1,
      "metadata": {
        "id": "T8a80B0Du6W9"
      },
      "outputs": [],
      "source": [
        "from sklearn.datasets import load_iris\n",
        "from sklearn.tree import DecisionTreeClassifier\n"
      ]
    },
    {
      "cell_type": "code",
      "source": [
        "iris=load_iris()\n",
        "dtc=DecisionTreeClassifier(random_state=2022)\n",
        "dtc.fit(iris.data,iris.target)\n",
        "dtc.score(iris.data,iris.target)\n",
        "#값이 100%가 나와버림."
      ],
      "metadata": {
        "colab": {
          "base_uri": "https://localhost:8080/"
        },
        "id": "FOvZlGjOvcyB",
        "outputId": "2f47f0a0-0310-4160-cd36-4f8e086f3435"
      },
      "execution_count": 2,
      "outputs": [
        {
          "output_type": "execute_result",
          "data": {
            "text/plain": [
              "1.0"
            ]
          },
          "metadata": {},
          "execution_count": 2
        }
      ]
    },
    {
      "cell_type": "markdown",
      "source": [
        "\n",
        "\n",
        "*   교차 검증:cross_validate() + 평가\n",
        "*   교차 검증 후 평가까지:cross_val_score()\n",
        "\n"
      ],
      "metadata": {
        "id": "0ipdcWgkyQGr"
      }
    },
    {
      "cell_type": "code",
      "source": [
        "from sklearn.model_selection import cross_val_score\n",
        "cross_val_score(dtc,iris.data,iris.target,scoring='accuracy',cv=5)"
      ],
      "metadata": {
        "colab": {
          "base_uri": "https://localhost:8080/"
        },
        "id": "wLWmdV0ByYRq",
        "outputId": "3360d981-3712-44bd-c4c3-85c97fbbefaa"
      },
      "execution_count": 4,
      "outputs": [
        {
          "output_type": "execute_result",
          "data": {
            "text/plain": [
              "array([0.96666667, 0.96666667, 0.9       , 0.93333333, 1.        ])"
            ]
          },
          "metadata": {},
          "execution_count": 4
        }
      ]
    },
    {
      "cell_type": "code",
      "source": [
        "dtc.get_params()\n",
        "#이런 파라미터 겁나 조정하고, 곱하기 교차검증까지 시킨 몇백번 횟수는 해보고 보고서 내야 그럴싸해진다."
      ],
      "metadata": {
        "colab": {
          "base_uri": "https://localhost:8080/"
        },
        "id": "2bHDa0YjzLM2",
        "outputId": "09ddd303-4df9-4b68-e24a-7dfd84f5b128"
      },
      "execution_count": 6,
      "outputs": [
        {
          "output_type": "execute_result",
          "data": {
            "text/plain": [
              "{'ccp_alpha': 0.0,\n",
              " 'class_weight': None,\n",
              " 'criterion': 'gini',\n",
              " 'max_depth': None,\n",
              " 'max_features': None,\n",
              " 'max_leaf_nodes': None,\n",
              " 'min_impurity_decrease': 0.0,\n",
              " 'min_samples_leaf': 1,\n",
              " 'min_samples_split': 2,\n",
              " 'min_weight_fraction_leaf': 0.0,\n",
              " 'random_state': 2022,\n",
              " 'splitter': 'best'}"
            ]
          },
          "metadata": {},
          "execution_count": 6
        }
      ]
    },
    {
      "cell_type": "code",
      "source": [
        ""
      ],
      "metadata": {
        "id": "YuzGorjWzwW6"
      },
      "execution_count": null,
      "outputs": []
    },
    {
      "cell_type": "code",
      "source": [
        "cross_val_score(dtc,iris.data,iris.target,scoring='accuracy',cv=5).mean()"
      ],
      "metadata": {
        "colab": {
          "base_uri": "https://localhost:8080/"
        },
        "id": "3s7lRx8yydMu",
        "outputId": "05bfd09b-eade-4b63-ba14-7af3c6cc6886"
      },
      "execution_count": 5,
      "outputs": [
        {
          "output_type": "execute_result",
          "data": {
            "text/plain": [
              "0.9533333333333334"
            ]
          },
          "metadata": {},
          "execution_count": 5
        }
      ]
    },
    {
      "cell_type": "markdown",
      "source": [
        "## gridsearchCV 클래스:하이퍼 파라미터 튜닝+교차검증\n"
      ],
      "metadata": {
        "id": "CLWCOmLX3-l6"
      }
    },
    {
      "cell_type": "code",
      "source": [
        "from sklearn.model_selection import train_test_split\n",
        "X_train,X_test,y_train,y_test=train_test_split(\n",
        "    iris.data, iris.target,stratify=iris.target, test_size=0.2, random_state=2022\n",
        ")\n"
      ],
      "metadata": {
        "id": "Amp8ecYb4KqJ"
      },
      "execution_count": 11,
      "outputs": []
    },
    {
      "cell_type": "code",
      "source": [
        "dtc=DecisionTreeClassifier(random_state=2022)\n",
        "dtc.get_params()"
      ],
      "metadata": {
        "colab": {
          "base_uri": "https://localhost:8080/"
        },
        "id": "iPF0WWwv4X8I",
        "outputId": "010b4d02-ac54-41b9-9cd0-a3874ba099bc"
      },
      "execution_count": 12,
      "outputs": [
        {
          "output_type": "execute_result",
          "data": {
            "text/plain": [
              "{'ccp_alpha': 0.0,\n",
              " 'class_weight': None,\n",
              " 'criterion': 'gini',\n",
              " 'max_depth': None,\n",
              " 'max_features': None,\n",
              " 'max_leaf_nodes': None,\n",
              " 'min_impurity_decrease': 0.0,\n",
              " 'min_samples_leaf': 1,\n",
              " 'min_samples_split': 2,\n",
              " 'min_weight_fraction_leaf': 0.0,\n",
              " 'random_state': 2022,\n",
              " 'splitter': 'best'}"
            ]
          },
          "metadata": {},
          "execution_count": 12
        }
      ]
    },
    {
      "cell_type": "code",
      "source": [
        "params={\n",
        "    'max_depth':[2,3,4,5,6],\n",
        "    'min_samples_split':[2,3,4]\n",
        "}"
      ],
      "metadata": {
        "id": "DS0qbrnx4n-O"
      },
      "execution_count": 14,
      "outputs": []
    },
    {
      "cell_type": "code",
      "source": [
        "from sklearn.model_selection import GridSearchCV\n",
        "\n",
        "grid_dt=GridSearchCV(\n",
        "    dtc,\n",
        "    param_grid=params,\n",
        "    scoring='accuracy',\n",
        "    cv=5\n",
        ")"
      ],
      "metadata": {
        "id": "nMnFyVFi5QqX"
      },
      "execution_count": 16,
      "outputs": []
    },
    {
      "cell_type": "code",
      "source": [
        "grid_dt.fit(X_train,y_train)"
      ],
      "metadata": {
        "colab": {
          "base_uri": "https://localhost:8080/"
        },
        "id": "V86njn5N5wow",
        "outputId": "f36af8ca-062d-464c-909a-e3fac8d6ad42"
      },
      "execution_count": 17,
      "outputs": [
        {
          "output_type": "execute_result",
          "data": {
            "text/plain": [
              "GridSearchCV(cv=5, estimator=DecisionTreeClassifier(random_state=2022),\n",
              "             param_grid={'max_depth': [2, 3, 4, 5, 6],\n",
              "                         'min_samples_split': [2, 3, 4]},\n",
              "             scoring='accuracy')"
            ]
          },
          "metadata": {},
          "execution_count": 17
        }
      ]
    },
    {
      "cell_type": "code",
      "source": [
        "#베스트 파라미터는?\n",
        "\n",
        "grid_dt.best_params_"
      ],
      "metadata": {
        "colab": {
          "base_uri": "https://localhost:8080/"
        },
        "id": "ugXLCmkA64gh",
        "outputId": "7f29573b-b055-457e-e5bf-b4c9a61dbe55"
      },
      "execution_count": 19,
      "outputs": [
        {
          "output_type": "execute_result",
          "data": {
            "text/plain": [
              "{'max_depth': 3, 'min_samples_split': 2}"
            ]
          },
          "metadata": {},
          "execution_count": 19
        }
      ]
    },
    {
      "cell_type": "code",
      "source": [
        "grid_dt.best_score_"
      ],
      "metadata": {
        "colab": {
          "base_uri": "https://localhost:8080/"
        },
        "id": "m27hz-cv7Nbv",
        "outputId": "cd110270-a3e3-4e1b-fa4d-f1e7be11fe45"
      },
      "execution_count": 20,
      "outputs": [
        {
          "output_type": "execute_result",
          "data": {
            "text/plain": [
              "0.9916666666666666"
            ]
          },
          "metadata": {},
          "execution_count": 20
        }
      ]
    },
    {
      "cell_type": "code",
      "source": [
        "dtc_best=DecisionTreeClassifier(max_depth=3,\n",
        "    min_samples_split=2,\n",
        "    random_state=2022)\n",
        "\n",
        "#이렇게 할 수도 있지만 그 대신에"
      ],
      "metadata": {
        "id": "LIQi30oc7SA4"
      },
      "execution_count": 21,
      "outputs": []
    },
    {
      "cell_type": "code",
      "source": [
        "#이게 더 간단.\n",
        "dtc_best=grid_dt.best_estimator_ \n",
        "\n",
        "dtc_best.score(X_test,y_test)"
      ],
      "metadata": {
        "colab": {
          "base_uri": "https://localhost:8080/"
        },
        "id": "DI3wLGTR7kBM",
        "outputId": "b08b307f-101d-48f7-a12c-721d11f2b65b"
      },
      "execution_count": 23,
      "outputs": [
        {
          "output_type": "execute_result",
          "data": {
            "text/plain": [
              "0.9333333333333333"
            ]
          },
          "metadata": {},
          "execution_count": 23
        }
      ]
    },
    {
      "cell_type": "markdown",
      "source": [
        "svm 사례"
      ],
      "metadata": {
        "id": "5AjGAyXT8PPB"
      }
    },
    {
      "cell_type": "code",
      "source": [
        "from sklearn.svm import SVC\n",
        "\n",
        "svc=SVC(random_state=2022)\n",
        "svc.get_params()"
      ],
      "metadata": {
        "colab": {
          "base_uri": "https://localhost:8080/"
        },
        "id": "gzY-dCqM8O5T",
        "outputId": "080ee1b1-26a2-42df-f013-a6ea303b4564"
      },
      "execution_count": 24,
      "outputs": [
        {
          "output_type": "execute_result",
          "data": {
            "text/plain": [
              "{'C': 1.0,\n",
              " 'break_ties': False,\n",
              " 'cache_size': 200,\n",
              " 'class_weight': None,\n",
              " 'coef0': 0.0,\n",
              " 'decision_function_shape': 'ovr',\n",
              " 'degree': 3,\n",
              " 'gamma': 'scale',\n",
              " 'kernel': 'rbf',\n",
              " 'max_iter': -1,\n",
              " 'probability': False,\n",
              " 'random_state': 2022,\n",
              " 'shrinking': True,\n",
              " 'tol': 0.001,\n",
              " 'verbose': False}"
            ]
          },
          "metadata": {},
          "execution_count": 24
        }
      ]
    },
    {
      "cell_type": "code",
      "source": [
        "params={'C':[0.01,0.1,1,10,100]}\n",
        "grid_sv=GridSearchCV(svc,params,scoring='accuracy',cv=5)"
      ],
      "metadata": {
        "id": "YRss0B-F8tq6"
      },
      "execution_count": 26,
      "outputs": []
    },
    {
      "cell_type": "code",
      "source": [
        "grid_sv.fit(X_train,y_train)\n",
        "grid_sv.best_params_\n",
        "#c가 0.1~1~10 사이 어딘가에서 더 좋아질 수 있다. \n"
      ],
      "metadata": {
        "colab": {
          "base_uri": "https://localhost:8080/"
        },
        "id": "k37MbbXm9Cz1",
        "outputId": "fdd8dd30-f23d-48e1-f584-7774adac1115"
      },
      "execution_count": 29,
      "outputs": [
        {
          "output_type": "execute_result",
          "data": {
            "text/plain": [
              "{'C': 1}"
            ]
          },
          "metadata": {},
          "execution_count": 29
        }
      ]
    },
    {
      "cell_type": "code",
      "source": [
        "#그래서 범위 좁혀가면서 파라미터 찾음.\n",
        "params={'C':[0.2,0.6,1,4,8]}\n",
        "grid_sv=GridSearchCV(svc,params,scoring='accuracy',cv=5)\n",
        "grid_sv.fit(X_train,y_train)\n",
        "grid_sv.best_params_"
      ],
      "metadata": {
        "colab": {
          "base_uri": "https://localhost:8080/"
        },
        "id": "YQfi1QeE9bey",
        "outputId": "ff795146-3fbd-438b-ff44-fef2d5b18a5b"
      },
      "execution_count": 30,
      "outputs": [
        {
          "output_type": "execute_result",
          "data": {
            "text/plain": [
              "{'C': 4}"
            ]
          },
          "metadata": {},
          "execution_count": 30
        }
      ]
    },
    {
      "cell_type": "code",
      "source": [
        "params={'C':[1,2,3,4,5,6,7,8]}\n",
        "grid_sv=GridSearchCV(svc,params,scoring='accuracy',cv=5)\n",
        "grid_sv.fit(X_train,y_train)\n",
        "grid_sv.best_params_"
      ],
      "metadata": {
        "colab": {
          "base_uri": "https://localhost:8080/"
        },
        "id": "MV0Ho-eE9nMn",
        "outputId": "c85c9625-4cd0-4af3-dc14-88a14db6a8de"
      },
      "execution_count": 31,
      "outputs": [
        {
          "output_type": "execute_result",
          "data": {
            "text/plain": [
              "{'C': 4}"
            ]
          },
          "metadata": {},
          "execution_count": 31
        }
      ]
    },
    {
      "cell_type": "code",
      "source": [
        "params={'C':[3,3.5,4,4.5,5]}\n",
        "grid_sv=GridSearchCV(svc,params,scoring='accuracy',cv=5)\n",
        "grid_sv.fit(X_train,y_train)\n",
        "grid_sv.best_params_"
      ],
      "metadata": {
        "colab": {
          "base_uri": "https://localhost:8080/"
        },
        "id": "OXlQtOMq9sMX",
        "outputId": "85850359-5c92-4513-c7cf-69f88a85d86f"
      },
      "execution_count": 32,
      "outputs": [
        {
          "output_type": "execute_result",
          "data": {
            "text/plain": [
              "{'C': 3.5}"
            ]
          },
          "metadata": {},
          "execution_count": 32
        }
      ]
    },
    {
      "cell_type": "code",
      "source": [
        "params={'C':[3.1,3.2,3.3,3.4,3.5,3.6,3.7,3.8,3.9]}\n",
        "grid_sv=GridSearchCV(svc,params,scoring='accuracy',cv=5)\n",
        "grid_sv.fit(X_train,y_train)\n",
        "grid_sv.best_params_"
      ],
      "metadata": {
        "colab": {
          "base_uri": "https://localhost:8080/"
        },
        "id": "7dysZ5dq92ir",
        "outputId": "7e8a469b-70e6-4309-e027-8336232f3e35"
      },
      "execution_count": 33,
      "outputs": [
        {
          "output_type": "execute_result",
          "data": {
            "text/plain": [
              "{'C': 3.6}"
            ]
          },
          "metadata": {},
          "execution_count": 33
        }
      ]
    },
    {
      "cell_type": "code",
      "source": [
        "svc_best=grid_sv.best_estimator_\n",
        "svc_best.score(X_test,y_test)"
      ],
      "metadata": {
        "colab": {
          "base_uri": "https://localhost:8080/"
        },
        "id": "x7cKmJ5k99Yg",
        "outputId": "ff41ef56-8e1b-4a48-cb3b-6d59e1b74e2f"
      },
      "execution_count": 34,
      "outputs": [
        {
          "output_type": "execute_result",
          "data": {
            "text/plain": [
              "0.9666666666666667"
            ]
          },
          "metadata": {},
          "execution_count": 34
        }
      ]
    }
  ]
}