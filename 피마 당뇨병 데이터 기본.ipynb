{
  "nbformat": 4,
  "nbformat_minor": 0,
  "metadata": {
    "colab": {
      "name": "Untitled0.ipynb",
      "provenance": [],
      "collapsed_sections": []
    },
    "kernelspec": {
      "name": "python3",
      "display_name": "Python 3"
    },
    "language_info": {
      "name": "python"
    }
  },
  "cells": [
    {
      "cell_type": "markdown",
      "source": [
        "당뇨병 데이터 \n",
        "- 다중회귀\n",
        "- lr, svr, rfr, xgr\n",
        "\n",
        "유방암 데이터 \n",
        "- 차원축소, 군집화\n",
        "- 10,5,2 차원으로 차원 축소\n",
        "- 원본과 차원축소 데이터 분류(앙상블 사용) 정확도 측정\n",
        "- 군집화하기\n",
        "- 2차원으로 측소한 것은 시각화.(오리지널, 군집화 데이터)\n",
        "\n",
        "\n",
        "별도 폴더에 이름.html 파일 두개."
      ],
      "metadata": {
        "id": "HTWaV_zLxy3D"
      }
    },
    {
      "cell_type": "markdown",
      "source": [
        "# 당뇨병 데이터"
      ],
      "metadata": {
        "id": "4Id6IfpCx2rN"
      }
    },
    {
      "cell_type": "code",
      "execution_count": 3,
      "metadata": {
        "id": "S3OrqCM5IY2n"
      },
      "outputs": [],
      "source": [
        "import numpy as np\n",
        "import pandas as pd"
      ]
    },
    {
      "cell_type": "markdown",
      "source": [
        "1.   데이터 전처리"
      ],
      "metadata": {
        "id": "GtmK-4RjItrM"
      }
    },
    {
      "cell_type": "code",
      "source": [
        "df=pd.read_csv('/content/pima-indians-diabetes.csv',skiprows=9,header=None)\n",
        "df.columns=['P','G','BP','S','I','BMI','D','AGE','Class']"
      ],
      "metadata": {
        "id": "sGpYy2T9IfXL"
      },
      "execution_count": 5,
      "outputs": []
    },
    {
      "cell_type": "code",
      "source": [
        "#X,y를 ndarray로 추출\n",
        "X=df.iloc[:,:-1].values\n",
        "y=df.iloc[:,-1].values"
      ],
      "metadata": {
        "id": "H6kwsOBZJ8X8"
      },
      "execution_count": 8,
      "outputs": []
    },
    {
      "cell_type": "markdown",
      "source": [
        ""
      ],
      "metadata": {
        "id": "hYig-n-TzIa3"
      }
    },
    {
      "cell_type": "code",
      "source": [
        "from sklearn.model_selection import train_test_split\n",
        "X_train,X_test,y_train,y_test =train_test_split(\n",
        "    X,y,stratify=y, test_size=0.2, random_state=2022\n",
        ")\n"
      ],
      "metadata": {
        "id": "TxRJJFxrLFqW"
      },
      "execution_count": 9,
      "outputs": []
    }
  ]
}