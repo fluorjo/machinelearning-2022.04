{
  "nbformat": 4,
  "nbformat_minor": 0,
  "metadata": {
    "colab": {
      "name": "03.앙상블.ipynb",
      "provenance": [],
      "collapsed_sections": []
    },
    "kernelspec": {
      "name": "python3",
      "display_name": "Python 3"
    },
    "language_info": {
      "name": "python"
    }
  },
  "cells": [
    {
      "cell_type": "markdown",
      "source": [
        "# 앙상블 학습\n",
        "## - 1.voting 방식\n",
        "### - 1.1.hard voting \n",
        "### - 로지스틱 회귀\n",
        "### - 서포터 벡터 머신\n",
        "### - k-최근접 이웃"
      ],
      "metadata": {
        "id": "WzSwCig3OqGw"
      }
    },
    {
      "cell_type": "code",
      "source": [
        "from sklearn.datasets import load_breast_cancer\n",
        "cancer=load_breast_cancer()"
      ],
      "metadata": {
        "id": "6-F7elu6Pd7b"
      },
      "execution_count": 1,
      "outputs": []
    },
    {
      "cell_type": "code",
      "source": [
        "from sklearn.preprocessing import MinMaxScaler\n",
        "cancer_scaled = MinMaxScaler().fit_transform(cancer.data)\n"
      ],
      "metadata": {
        "id": "rsUAjCaCPrDf"
      },
      "execution_count": 4,
      "outputs": []
    },
    {
      "cell_type": "code",
      "source": [
        "from sklearn.model_selection import train_test_split\n",
        "X_train, X_test, y_train, y_test = train_test_split(\n",
        "    cancer_scaled, cancer.target, stratify=cancer.target,\n",
        "    test_size=0.2, random_state=2022\n",
        ")"
      ],
      "metadata": {
        "id": "2PXK9x4pP7Is"
      },
      "execution_count": 5,
      "outputs": []
    },
    {
      "cell_type": "code",
      "source": [
        "from sklearn.linear_model import LogisticRegression\n",
        "from sklearn.svm import SVC\n",
        "from sklearn.neighbors import KNeighborsClassifier"
      ],
      "metadata": {
        "id": "Ns37jkmBQQ5l"
      },
      "execution_count": 6,
      "outputs": []
    },
    {
      "cell_type": "code",
      "source": [
        "lrc=LogisticRegression(random_state=2022)\n",
        "svc=SVC(random_state=2022)\n",
        "knn=KNeighborsClassifier()\n"
      ],
      "metadata": {
        "id": "O7iBQTtpQ2_D"
      },
      "execution_count": 7,
      "outputs": []
    },
    {
      "cell_type": "markdown",
      "source": [
        "####1.1.하드 보팅"
      ],
      "metadata": {
        "id": "LuaskcPySvnA"
      }
    },
    {
      "cell_type": "code",
      "source": [
        "#하드 보팅을 위한 앙상블 분류기\n",
        "from sklearn.ensemble import VotingClassifier\n",
        "voc=VotingClassifier(\n",
        "    estimators=[('LRC',lrc),('SVC',svc),('KNN',knn)],\n",
        "    voting='hard'\n",
        ")"
      ],
      "metadata": {
        "id": "pdavzIRgRIiu"
      },
      "execution_count": 8,
      "outputs": []
    },
    {
      "cell_type": "code",
      "source": [
        "voc.fit(X_train,y_train)\n",
        "voc.score(X_test,y_test)"
      ],
      "metadata": {
        "colab": {
          "base_uri": "https://localhost:8080/"
        },
        "id": "6_GKSLhdR3Do",
        "outputId": "58a1b380-c1f9-4b59-8c87-629f8acd17f5"
      },
      "execution_count": 9,
      "outputs": [
        {
          "output_type": "execute_result",
          "data": {
            "text/plain": [
              "1.0"
            ]
          },
          "metadata": {},
          "execution_count": 9
        }
      ]
    },
    {
      "cell_type": "code",
      "source": [
        "#개별 분류기의 성능\n",
        "lrc.fit(X_train,y_train)\n",
        "svc.fit(X_train,y_train)\n",
        "knn.fit(X_train,y_train)\n",
        "lrc.score(X_test,y_test),svc.score(X_test,y_test),knn.score(X_test,y_test)\n",
        "#개별 분류기의 정확도는 완벽하지 않지만 얘네를 모았을 때는 1.0이 된다. "
      ],
      "metadata": {
        "colab": {
          "base_uri": "https://localhost:8080/"
        },
        "id": "a49pp_U7R-Ul",
        "outputId": "54df369c-926a-4fbd-e7a1-b4699398f0fb"
      },
      "execution_count": 11,
      "outputs": [
        {
          "output_type": "execute_result",
          "data": {
            "text/plain": [
              "(0.9912280701754386, 1.0, 0.9824561403508771)"
            ]
          },
          "metadata": {},
          "execution_count": 11
        }
      ]
    },
    {
      "cell_type": "markdown",
      "source": [
        "####1.2.소프트 보팅"
      ],
      "metadata": {
        "id": "hnkkTD8PSzDY"
      }
    },
    {
      "cell_type": "code",
      "source": [
        "#하드 보팅을 위한 앙상블 분류기\n",
        "from sklearn.ensemble import VotingClassifier\n",
        "voc=VotingClassifier(\n",
        "    estimators=[('LRC',lrc),('SVC',svc),('KNN',knn)],\n",
        "    voting='hard'\n",
        ")"
      ],
      "metadata": {
        "id": "QvWsYL1cSroV"
      },
      "execution_count": null,
      "outputs": []
    },
    {
      "cell_type": "code",
      "source": [
        "voc.fit(X_train,y_train)\n",
        "voc.score(X_test,y_test)"
      ],
      "metadata": {
        "colab": {
          "base_uri": "https://localhost:8080/"
        },
        "outputId": "58a1b380-c1f9-4b59-8c87-629f8acd17f5",
        "id": "dk8_KyrNSroX"
      },
      "execution_count": null,
      "outputs": [
        {
          "output_type": "execute_result",
          "data": {
            "text/plain": [
              "1.0"
            ]
          },
          "metadata": {},
          "execution_count": 9
        }
      ]
    },
    {
      "cell_type": "code",
      "source": [
        "#개별 분류기의 성능\n",
        "lrc.fit(X_train,y_train)\n",
        "svc.fit(X_train,y_train)\n",
        "knn.fit(X_train,y_train)\n",
        "lrc.score(X_test,y_test),svc.score(X_test,y_test),knn.score(X_test,y_test)\n",
        "#개별 분류기의 정확도는 완벽하지 않지만 얘네를 모았을 때는 1.0이 된다. "
      ],
      "metadata": {
        "colab": {
          "base_uri": "https://localhost:8080/"
        },
        "outputId": "54df369c-926a-4fbd-e7a1-b4699398f0fb",
        "id": "NKKg6n4vSroY"
      },
      "execution_count": null,
      "outputs": [
        {
          "output_type": "execute_result",
          "data": {
            "text/plain": [
              "(0.9912280701754386, 1.0, 0.9824561403508771)"
            ]
          },
          "metadata": {},
          "execution_count": 11
        }
      ]
    },
    {
      "cell_type": "code",
      "source": [
        "lrc.predict(X_test[:5])"
      ],
      "metadata": {
        "colab": {
          "base_uri": "https://localhost:8080/"
        },
        "id": "Iztm3CFwTqKy",
        "outputId": "de898f40-9c2d-467b-9cb5-d26656fcd956"
      },
      "execution_count": 12,
      "outputs": [
        {
          "output_type": "execute_result",
          "data": {
            "text/plain": [
              "array([0, 1, 0, 1, 0])"
            ]
          },
          "metadata": {},
          "execution_count": 12
        }
      ]
    },
    {
      "cell_type": "code",
      "source": [
        "lrc.predict_proba(X_test[:5])"
      ],
      "metadata": {
        "colab": {
          "base_uri": "https://localhost:8080/"
        },
        "id": "ky86qO2iTu23",
        "outputId": "39dfafb1-f616-40d8-8557-f468de027d68"
      },
      "execution_count": 15,
      "outputs": [
        {
          "output_type": "execute_result",
          "data": {
            "text/plain": [
              "array([[0.99792166, 0.00207834],\n",
              "       [0.07775117, 0.92224883],\n",
              "       [0.9774613 , 0.0225387 ],\n",
              "       [0.05952966, 0.94047034],\n",
              "       [0.99554778, 0.00445222]])"
            ]
          },
          "metadata": {},
          "execution_count": 15
        }
      ]
    },
    {
      "cell_type": "code",
      "source": [
        "svc.get_params()"
      ],
      "metadata": {
        "colab": {
          "base_uri": "https://localhost:8080/"
        },
        "id": "5adysneRUZ76",
        "outputId": "7a5ffb56-a482-4f50-af00-7f19657d1ca3"
      },
      "execution_count": 16,
      "outputs": [
        {
          "output_type": "execute_result",
          "data": {
            "text/plain": [
              "{'C': 1.0,\n",
              " 'break_ties': False,\n",
              " 'cache_size': 200,\n",
              " 'class_weight': None,\n",
              " 'coef0': 0.0,\n",
              " 'decision_function_shape': 'ovr',\n",
              " 'degree': 3,\n",
              " 'gamma': 'scale',\n",
              " 'kernel': 'rbf',\n",
              " 'max_iter': -1,\n",
              " 'probability': False,\n",
              " 'random_state': 2022,\n",
              " 'shrinking': True,\n",
              " 'tol': 0.001,\n",
              " 'verbose': False}"
            ]
          },
          "metadata": {},
          "execution_count": 16
        }
      ]
    },
    {
      "cell_type": "code",
      "source": [
        "svc2=SVC(probability=True, random_state=2022)\n",
        "svc2.fit(X_train, y_train)\n",
        "svc2.predict_proba(X_test[:5])"
      ],
      "metadata": {
        "colab": {
          "base_uri": "https://localhost:8080/"
        },
        "id": "umI8_kyiUbDP",
        "outputId": "9e0aca51-12ba-43dc-db34-3e04b5897367"
      },
      "execution_count": 17,
      "outputs": [
        {
          "output_type": "execute_result",
          "data": {
            "text/plain": [
              "array([[9.99896299e-01, 1.03701492e-04],\n",
              "       [3.84470713e-03, 9.96155293e-01],\n",
              "       [9.99896384e-01, 1.03616009e-04],\n",
              "       [5.97356113e-03, 9.94026439e-01],\n",
              "       [9.99311796e-01, 6.88204061e-04]])"
            ]
          },
          "metadata": {},
          "execution_count": 17
        }
      ]
    },
    {
      "cell_type": "markdown",
      "source": [
        "KNN"
      ],
      "metadata": {
        "id": "C-8x4XKEVJ2E"
      }
    },
    {
      "cell_type": "code",
      "source": [
        "knn.predict_proba(X_test[-5:])"
      ],
      "metadata": {
        "colab": {
          "base_uri": "https://localhost:8080/"
        },
        "id": "na1bjncXUzo5",
        "outputId": "51e55b09-ebcb-49a3-861d-2c3528dc0252"
      },
      "execution_count": 19,
      "outputs": [
        {
          "output_type": "execute_result",
          "data": {
            "text/plain": [
              "array([[0.8, 0.2],\n",
              "       [1. , 0. ],\n",
              "       [0.8, 0.2],\n",
              "       [0. , 1. ],\n",
              "       [0. , 1. ]])"
            ]
          },
          "metadata": {},
          "execution_count": 19
        }
      ]
    },
    {
      "cell_type": "markdown",
      "source": [
        "soft voting"
      ],
      "metadata": {
        "id": "cAKywN0AVbe6"
      }
    },
    {
      "cell_type": "code",
      "source": [
        "voc2=VotingClassifier(\n",
        "    estimators=[('LRC',lrc),('SVC',svc2),('KNN',knn)],\n",
        "    voting='soft'\n",
        ")"
      ],
      "metadata": {
        "id": "UDYCORiiVNi4"
      },
      "execution_count": 22,
      "outputs": []
    },
    {
      "cell_type": "code",
      "source": [
        "voc2.fit(X_train,y_train)\n",
        "voc2.score(X_test,y_test)"
      ],
      "metadata": {
        "colab": {
          "base_uri": "https://localhost:8080/"
        },
        "id": "sF_X1DhlVjW8",
        "outputId": "7958d6f5-7764-46b8-914e-611566e1c25f"
      },
      "execution_count": 23,
      "outputs": [
        {
          "output_type": "execute_result",
          "data": {
            "text/plain": [
              "1.0"
            ]
          },
          "metadata": {},
          "execution_count": 23
        }
      ]
    },
    {
      "cell_type": "code",
      "source": [
        "voc2.predict_proba(X_test[:5])"
      ],
      "metadata": {
        "colab": {
          "base_uri": "https://localhost:8080/"
        },
        "id": "4oj7NlVAVocb",
        "outputId": "fdbe17bf-e9ed-4fcb-caf4-b022afd1a84f"
      },
      "execution_count": 25,
      "outputs": [
        {
          "output_type": "execute_result",
          "data": {
            "text/plain": [
              "array([[9.99272654e-01, 7.27346212e-04],\n",
              "       [2.71986265e-02, 9.72801374e-01],\n",
              "       [9.92452563e-01, 7.54743719e-03],\n",
              "       [2.18344062e-02, 9.78165594e-01],\n",
              "       [9.98286525e-01, 1.71347474e-03]])"
            ]
          },
          "metadata": {},
          "execution_count": 25
        }
      ]
    },
    {
      "cell_type": "markdown",
      "source": [
        "gridsearchCV"
      ],
      "metadata": {
        "id": "H6-4xvQcaKLw"
      }
    },
    {
      "cell_type": "code",
      "source": [
        "lrc.C, svc2.C"
      ],
      "metadata": {
        "colab": {
          "base_uri": "https://localhost:8080/"
        },
        "id": "Sjohshu-V3c7",
        "outputId": "43d69782-99a0-4092-f236-1a6b7f667b13"
      },
      "execution_count": 26,
      "outputs": [
        {
          "output_type": "execute_result",
          "data": {
            "text/plain": [
              "(1.0, 1.0)"
            ]
          },
          "metadata": {},
          "execution_count": 26
        }
      ]
    },
    {
      "cell_type": "code",
      "source": [
        "#각각의 C를 설정해준다. \n",
        "\n",
        "params = {\n",
        "    'LRC__C':[0.1,1,10],\n",
        "    'SVC__C':[0.1,1,10]\n",
        "\n",
        "}"
      ],
      "metadata": {
        "id": "CaURr75waNj2"
      },
      "execution_count": 28,
      "outputs": []
    },
    {
      "cell_type": "code",
      "source": [
        "from sklearn.model_selection import GridSearchCV\n",
        "grid_voc2=GridSearchCV(voc2,params,scoring='accuracy',cv=5)\n",
        "grid_voc2.fit(X_train,y_train)\n",
        "grid_voc2.best_params_"
      ],
      "metadata": {
        "colab": {
          "base_uri": "https://localhost:8080/"
        },
        "id": "YHiO0Drxa_Ko",
        "outputId": "4601c6d2-1f99-4b67-d01c-cafe4848964a"
      },
      "execution_count": 29,
      "outputs": [
        {
          "output_type": "execute_result",
          "data": {
            "text/plain": [
              "{'LRC__C': 10, 'SVC__C': 0.1}"
            ]
          },
          "metadata": {},
          "execution_count": 29
        }
      ]
    },
    {
      "cell_type": "code",
      "source": [
        "params = {\n",
        "    'LRC__C':[5,10,30],\n",
        "    'SVC__C':[0.05,0.1,0.3]\n",
        "}\n",
        "grid_voc2=GridSearchCV(voc2,params,scoring='accuracy',cv=5)\n",
        "grid_voc2.fit(X_train,y_train)\n",
        "grid_voc2.best_params_"
      ],
      "metadata": {
        "colab": {
          "base_uri": "https://localhost:8080/"
        },
        "id": "ylWPMNlwbVHg",
        "outputId": "fd4d105b-2519-4622-89f8-5ca8a91201e5"
      },
      "execution_count": 30,
      "outputs": [
        {
          "output_type": "execute_result",
          "data": {
            "text/plain": [
              "{'LRC__C': 10, 'SVC__C': 0.05}"
            ]
          },
          "metadata": {},
          "execution_count": 30
        }
      ]
    },
    {
      "cell_type": "code",
      "source": [
        "grid_voc2.best_estimator_.score(X_test,y_test)"
      ],
      "metadata": {
        "colab": {
          "base_uri": "https://localhost:8080/"
        },
        "id": "lFZKErUBbtXP",
        "outputId": "d89c563e-5700-4a93-a79a-074790b80c1d"
      },
      "execution_count": 31,
      "outputs": [
        {
          "output_type": "execute_result",
          "data": {
            "text/plain": [
              "1.0"
            ]
          },
          "metadata": {},
          "execution_count": 31
        }
      ]
    },
    {
      "cell_type": "markdown",
      "source": [
        "### 2. Bagging 방식 - Random Forest"
      ],
      "metadata": {
        "id": "Q8bmumoZcGYh"
      }
    },
    {
      "cell_type": "code",
      "source": [
        "from sklearn.ensemble import RandomForestClassifier\n",
        "rfc=RandomForestClassifier(random_state=2022)\n",
        "rfc.get_params()"
      ],
      "metadata": {
        "colab": {
          "base_uri": "https://localhost:8080/"
        },
        "id": "Po2Opcugb42d",
        "outputId": "28027f11-e87e-45f1-dc86-49c2673e357c"
      },
      "execution_count": 33,
      "outputs": [
        {
          "output_type": "execute_result",
          "data": {
            "text/plain": [
              "{'bootstrap': True,\n",
              " 'ccp_alpha': 0.0,\n",
              " 'class_weight': None,\n",
              " 'criterion': 'gini',\n",
              " 'max_depth': None,\n",
              " 'max_features': 'auto',\n",
              " 'max_leaf_nodes': None,\n",
              " 'max_samples': None,\n",
              " 'min_impurity_decrease': 0.0,\n",
              " 'min_samples_leaf': 1,\n",
              " 'min_samples_split': 2,\n",
              " 'min_weight_fraction_leaf': 0.0,\n",
              " 'n_estimators': 100,\n",
              " 'n_jobs': None,\n",
              " 'oob_score': False,\n",
              " 'random_state': 2022,\n",
              " 'verbose': 0,\n",
              " 'warm_start': False}"
            ]
          },
          "metadata": {},
          "execution_count": 33
        }
      ]
    },
    {
      "cell_type": "code",
      "source": [
        "rfc.fit(X_train,y_train)\n",
        "rfc.score(X_test,y_test)"
      ],
      "metadata": {
        "colab": {
          "base_uri": "https://localhost:8080/"
        },
        "id": "adJRErEhcdRN",
        "outputId": "366fc075-f924-4882-a305-d5df2948ac12"
      },
      "execution_count": 34,
      "outputs": [
        {
          "output_type": "execute_result",
          "data": {
            "text/plain": [
              "1.0"
            ]
          },
          "metadata": {},
          "execution_count": 34
        }
      ]
    },
    {
      "cell_type": "code",
      "source": [
        ""
      ],
      "metadata": {
        "id": "lHLzBFA2c1UH"
      },
      "execution_count": null,
      "outputs": []
    }
  ]
}