{
  "nbformat": 4,
  "nbformat_minor": 0,
  "metadata": {
    "colab": {
      "name": "02.와인.ipynb",
      "provenance": [],
      "collapsed_sections": []
    },
    "kernelspec": {
      "name": "python3",
      "display_name": "Python 3"
    },
    "language_info": {
      "name": "python"
    }
  },
  "cells": [
    {
      "cell_type": "markdown",
      "source": [
        "# PCA-와인"
      ],
      "metadata": {
        "id": "YkSuC3-mQ0s7"
      }
    },
    {
      "cell_type": "code",
      "execution_count": 1,
      "metadata": {
        "id": "_ffI6vOCQu2u"
      },
      "outputs": [],
      "source": [
        "import numpy as np\n",
        "import pandas as pd\n",
        "import matplotlib.pyplot as plt"
      ]
    },
    {
      "cell_type": "code",
      "source": [
        "#와인 데이터 표준화\n",
        "from sklearn.datasets import load_wine\n",
        "from sklearn.preprocessing import StandardScaler\n",
        "wine=load_wine()\n",
        "wine_std=StandardScaler().fit_transform(wine.data)"
      ],
      "metadata": {
        "id": "l75pkpnoQ6TG"
      },
      "execution_count": 2,
      "outputs": []
    },
    {
      "cell_type": "code",
      "source": [
        "wine.data.shape"
      ],
      "metadata": {
        "colab": {
          "base_uri": "https://localhost:8080/"
        },
        "id": "5-s-5_uaRQJ_",
        "outputId": "80c19cbe-0330-40be-899c-9c0bb8c386dc"
      },
      "execution_count": 3,
      "outputs": [
        {
          "output_type": "execute_result",
          "data": {
            "text/plain": [
              "(178, 13)"
            ]
          },
          "metadata": {},
          "execution_count": 3
        }
      ]
    },
    {
      "cell_type": "markdown",
      "source": [
        "### 차원축소\n",
        "- 13차원을 2/4/6차원으로 바꿔보기."
      ],
      "metadata": {
        "id": "MAprGu_SRdIV"
      }
    },
    {
      "cell_type": "code",
      "source": [
        "#2차원\n",
        "from sklearn.decomposition import PCA\n",
        "pca2=PCA(2)\n",
        "wine_pca2=pca2.fit_transform(wine_std)\n",
        "wine_pca2[:3]\n",
        "wine_pca2.shape"
      ],
      "metadata": {
        "colab": {
          "base_uri": "https://localhost:8080/"
        },
        "id": "lhcY6-fNRjh7",
        "outputId": "347a9810-3bdd-4a73-fa2b-5c7b618f4dfc"
      },
      "execution_count": 6,
      "outputs": [
        {
          "output_type": "execute_result",
          "data": {
            "text/plain": [
              "(178, 2)"
            ]
          },
          "metadata": {},
          "execution_count": 6
        }
      ]
    },
    {
      "cell_type": "code",
      "source": [
        "pca2.explained_variance_ratio_,pca2.explained_variance_ratio_.sum()\n",
        "#2차원으로 줄였더니 55% 밖에 설명 못한다. "
      ],
      "metadata": {
        "colab": {
          "base_uri": "https://localhost:8080/"
        },
        "id": "Jlz3qRG1SEpV",
        "outputId": "0e0f0466-3d2c-463c-b54f-29c3ed2f04f1"
      },
      "execution_count": 7,
      "outputs": [
        {
          "output_type": "execute_result",
          "data": {
            "text/plain": [
              "(array([0.36198848, 0.1920749 ]), 0.5540633835693534)"
            ]
          },
          "metadata": {},
          "execution_count": 7
        }
      ]
    },
    {
      "cell_type": "code",
      "source": [
        "#4차원\n",
        "pca4=PCA(4)\n",
        "wine_pca4=pca4.fit_transform(wine_std)\n",
        "wine_pca4[:3]\n",
        "wine_pca4.shape"
      ],
      "metadata": {
        "colab": {
          "base_uri": "https://localhost:8080/"
        },
        "id": "ogNDvuVoSSh7",
        "outputId": "d3e8528d-4344-4087-f921-d368bf02e4a1"
      },
      "execution_count": 8,
      "outputs": [
        {
          "output_type": "execute_result",
          "data": {
            "text/plain": [
              "(178, 4)"
            ]
          },
          "metadata": {},
          "execution_count": 8
        }
      ]
    },
    {
      "cell_type": "code",
      "source": [
        "pca4.explained_variance_ratio_,pca4.explained_variance_ratio_.sum()"
      ],
      "metadata": {
        "colab": {
          "base_uri": "https://localhost:8080/"
        },
        "id": "NlkBIDegSjVH",
        "outputId": "76ec73a9-a448-45be-f894-c49be920777f"
      },
      "execution_count": 9,
      "outputs": [
        {
          "output_type": "execute_result",
          "data": {
            "text/plain": [
              "(array([0.36198848, 0.1920749 , 0.11123631, 0.0706903 ]), 0.735989990758993)"
            ]
          },
          "metadata": {},
          "execution_count": 9
        }
      ]
    },
    {
      "cell_type": "code",
      "source": [
        "#6차원\n",
        "pca6=PCA(6)\n",
        "wine_pca6=pca6.fit_transform(wine_std)\n",
        "wine_pca6[:3]\n",
        "wine_pca6.shape\n",
        "pca6.explained_variance_ratio_,pca6.explained_variance_ratio_.sum()"
      ],
      "metadata": {
        "colab": {
          "base_uri": "https://localhost:8080/"
        },
        "id": "Gq3fqEV4SmRh",
        "outputId": "1fd112fd-9e48-4dac-f30a-65d26039b51e"
      },
      "execution_count": 10,
      "outputs": [
        {
          "output_type": "execute_result",
          "data": {
            "text/plain": [
              "(array([0.36198848, 0.1920749 , 0.11123631, 0.0706903 , 0.06563294,\n",
              "        0.04935823]), 0.8509811607477046)"
            ]
          },
          "metadata": {},
          "execution_count": 10
        }
      ]
    },
    {
      "cell_type": "markdown",
      "source": [
        "2. pca 전후 비교"
      ],
      "metadata": {
        "id": "OCMU7NoUTeQH"
      }
    },
    {
      "cell_type": "code",
      "source": [
        "from sklearn.ensemble import RandomForestClassifier\n",
        "from sklearn.model_selection import train_test_split"
      ],
      "metadata": {
        "id": "bz_oVtmMTeeJ"
      },
      "execution_count": 11,
      "outputs": []
    },
    {
      "cell_type": "code",
      "source": [
        "# 원본 데이터로 분류\n",
        "X_train, X_test, y_train, y_test = train_test_split(\n",
        "    wine.data, \n",
        "    wine.target, \n",
        "    stratify=wine.target, \n",
        "    random_state=2022\n",
        ")\n",
        "rfc=RandomForestClassifier(random_state=2022)\n",
        "rfc.fit(X_train,y_train)\n",
        "rfc.score(X_test,y_test)"
      ],
      "metadata": {
        "colab": {
          "base_uri": "https://localhost:8080/"
        },
        "id": "KBiN38ebTpe8",
        "outputId": "9d869199-7f8e-4ab9-c3cf-4221d2c4493a"
      },
      "execution_count": 12,
      "outputs": [
        {
          "output_type": "execute_result",
          "data": {
            "text/plain": [
              "1.0"
            ]
          },
          "metadata": {},
          "execution_count": 12
        }
      ]
    },
    {
      "cell_type": "code",
      "source": [
        "# 2차원 데이터로 분류\n",
        "X_train, X_test, y_train, y_test = train_test_split(\n",
        "    wine_pca2, \n",
        "    wine.target, \n",
        "    stratify=wine.target, \n",
        "    random_state=2022\n",
        ")\n",
        "rfc2=RandomForestClassifier(random_state=2022)\n",
        "rfc2.fit(X_train,y_train)\n",
        "rfc2.score(X_test,y_test)"
      ],
      "metadata": {
        "colab": {
          "base_uri": "https://localhost:8080/"
        },
        "id": "aNdq7M_RULF5",
        "outputId": "847e770c-0abd-4068-fede-9a4face67784"
      },
      "execution_count": 15,
      "outputs": [
        {
          "output_type": "execute_result",
          "data": {
            "text/plain": [
              "1.0"
            ]
          },
          "metadata": {},
          "execution_count": 15
        }
      ]
    },
    {
      "cell_type": "code",
      "source": [
        "# 4차원 데이터로 분류\n",
        "X_train, X_test, y_train, y_test = train_test_split(\n",
        "    wine_pca4, \n",
        "    wine.target, \n",
        "    stratify=wine.target, \n",
        "    random_state=2022\n",
        ")\n",
        "rfc4=RandomForestClassifier(random_state=2022)\n",
        "rfc4.fit(X_train,y_train)\n",
        "rfc4.score(X_test,y_test)"
      ],
      "metadata": {
        "colab": {
          "base_uri": "https://localhost:8080/"
        },
        "id": "xjo5nYmGUZ3T",
        "outputId": "1210f55a-8a53-4243-847e-db54e17ca62e"
      },
      "execution_count": 16,
      "outputs": [
        {
          "output_type": "execute_result",
          "data": {
            "text/plain": [
              "1.0"
            ]
          },
          "metadata": {},
          "execution_count": 16
        }
      ]
    },
    {
      "cell_type": "code",
      "source": [
        "# 6차원 데이터로 분류\n",
        "X_train, X_test, y_train, y_test = train_test_split(\n",
        "    wine_pca6, \n",
        "    wine.target, \n",
        "    stratify=wine.target, \n",
        "    random_state=2022\n",
        ")\n",
        "rfc6=RandomForestClassifier(random_state=2022)\n",
        "rfc6.fit(X_train,y_train)\n",
        "rfc6.score(X_test,y_test)"
      ],
      "metadata": {
        "colab": {
          "base_uri": "https://localhost:8080/"
        },
        "id": "W2Goc4gaVEQw",
        "outputId": "7dd8c53a-0eae-413e-9e0e-8ef76d42b79a"
      },
      "execution_count": 17,
      "outputs": [
        {
          "output_type": "execute_result",
          "data": {
            "text/plain": [
              "1.0"
            ]
          },
          "metadata": {},
          "execution_count": 17
        }
      ]
    },
    {
      "cell_type": "markdown",
      "source": [
        "### 3.시각화"
      ],
      "metadata": {
        "id": "11whWRGrVvWq"
      }
    },
    {
      "cell_type": "code",
      "source": [
        "df=pd.DataFrame(wine_pca2,columns=['PC1','PC2'])\n",
        "df['target']=wine.target\n",
        "df.head()"
      ],
      "metadata": {
        "colab": {
          "base_uri": "https://localhost:8080/",
          "height": 206
        },
        "id": "98-T0WOSVLq8",
        "outputId": "c6a35121-0c81-45f2-ee9b-14c6342d52c5"
      },
      "execution_count": 18,
      "outputs": [
        {
          "output_type": "execute_result",
          "data": {
            "text/plain": [
              "        PC1       PC2  target\n",
              "0  3.316751 -1.443463       0\n",
              "1  2.209465  0.333393       0\n",
              "2  2.516740 -1.031151       0\n",
              "3  3.757066 -2.756372       0\n",
              "4  1.008908 -0.869831       0"
            ],
            "text/html": [
              "\n",
              "  <div id=\"df-498ea9b3-ee04-4038-a8d5-7e9804ec041f\">\n",
              "    <div class=\"colab-df-container\">\n",
              "      <div>\n",
              "<style scoped>\n",
              "    .dataframe tbody tr th:only-of-type {\n",
              "        vertical-align: middle;\n",
              "    }\n",
              "\n",
              "    .dataframe tbody tr th {\n",
              "        vertical-align: top;\n",
              "    }\n",
              "\n",
              "    .dataframe thead th {\n",
              "        text-align: right;\n",
              "    }\n",
              "</style>\n",
              "<table border=\"1\" class=\"dataframe\">\n",
              "  <thead>\n",
              "    <tr style=\"text-align: right;\">\n",
              "      <th></th>\n",
              "      <th>PC1</th>\n",
              "      <th>PC2</th>\n",
              "      <th>target</th>\n",
              "    </tr>\n",
              "  </thead>\n",
              "  <tbody>\n",
              "    <tr>\n",
              "      <th>0</th>\n",
              "      <td>3.316751</td>\n",
              "      <td>-1.443463</td>\n",
              "      <td>0</td>\n",
              "    </tr>\n",
              "    <tr>\n",
              "      <th>1</th>\n",
              "      <td>2.209465</td>\n",
              "      <td>0.333393</td>\n",
              "      <td>0</td>\n",
              "    </tr>\n",
              "    <tr>\n",
              "      <th>2</th>\n",
              "      <td>2.516740</td>\n",
              "      <td>-1.031151</td>\n",
              "      <td>0</td>\n",
              "    </tr>\n",
              "    <tr>\n",
              "      <th>3</th>\n",
              "      <td>3.757066</td>\n",
              "      <td>-2.756372</td>\n",
              "      <td>0</td>\n",
              "    </tr>\n",
              "    <tr>\n",
              "      <th>4</th>\n",
              "      <td>1.008908</td>\n",
              "      <td>-0.869831</td>\n",
              "      <td>0</td>\n",
              "    </tr>\n",
              "  </tbody>\n",
              "</table>\n",
              "</div>\n",
              "      <button class=\"colab-df-convert\" onclick=\"convertToInteractive('df-498ea9b3-ee04-4038-a8d5-7e9804ec041f')\"\n",
              "              title=\"Convert this dataframe to an interactive table.\"\n",
              "              style=\"display:none;\">\n",
              "        \n",
              "  <svg xmlns=\"http://www.w3.org/2000/svg\" height=\"24px\"viewBox=\"0 0 24 24\"\n",
              "       width=\"24px\">\n",
              "    <path d=\"M0 0h24v24H0V0z\" fill=\"none\"/>\n",
              "    <path d=\"M18.56 5.44l.94 2.06.94-2.06 2.06-.94-2.06-.94-.94-2.06-.94 2.06-2.06.94zm-11 1L8.5 8.5l.94-2.06 2.06-.94-2.06-.94L8.5 2.5l-.94 2.06-2.06.94zm10 10l.94 2.06.94-2.06 2.06-.94-2.06-.94-.94-2.06-.94 2.06-2.06.94z\"/><path d=\"M17.41 7.96l-1.37-1.37c-.4-.4-.92-.59-1.43-.59-.52 0-1.04.2-1.43.59L10.3 9.45l-7.72 7.72c-.78.78-.78 2.05 0 2.83L4 21.41c.39.39.9.59 1.41.59.51 0 1.02-.2 1.41-.59l7.78-7.78 2.81-2.81c.8-.78.8-2.07 0-2.86zM5.41 20L4 18.59l7.72-7.72 1.47 1.35L5.41 20z\"/>\n",
              "  </svg>\n",
              "      </button>\n",
              "      \n",
              "  <style>\n",
              "    .colab-df-container {\n",
              "      display:flex;\n",
              "      flex-wrap:wrap;\n",
              "      gap: 12px;\n",
              "    }\n",
              "\n",
              "    .colab-df-convert {\n",
              "      background-color: #E8F0FE;\n",
              "      border: none;\n",
              "      border-radius: 50%;\n",
              "      cursor: pointer;\n",
              "      display: none;\n",
              "      fill: #1967D2;\n",
              "      height: 32px;\n",
              "      padding: 0 0 0 0;\n",
              "      width: 32px;\n",
              "    }\n",
              "\n",
              "    .colab-df-convert:hover {\n",
              "      background-color: #E2EBFA;\n",
              "      box-shadow: 0px 1px 2px rgba(60, 64, 67, 0.3), 0px 1px 3px 1px rgba(60, 64, 67, 0.15);\n",
              "      fill: #174EA6;\n",
              "    }\n",
              "\n",
              "    [theme=dark] .colab-df-convert {\n",
              "      background-color: #3B4455;\n",
              "      fill: #D2E3FC;\n",
              "    }\n",
              "\n",
              "    [theme=dark] .colab-df-convert:hover {\n",
              "      background-color: #434B5C;\n",
              "      box-shadow: 0px 1px 3px 1px rgba(0, 0, 0, 0.15);\n",
              "      filter: drop-shadow(0px 1px 2px rgba(0, 0, 0, 0.3));\n",
              "      fill: #FFFFFF;\n",
              "    }\n",
              "  </style>\n",
              "\n",
              "      <script>\n",
              "        const buttonEl =\n",
              "          document.querySelector('#df-498ea9b3-ee04-4038-a8d5-7e9804ec041f button.colab-df-convert');\n",
              "        buttonEl.style.display =\n",
              "          google.colab.kernel.accessAllowed ? 'block' : 'none';\n",
              "\n",
              "        async function convertToInteractive(key) {\n",
              "          const element = document.querySelector('#df-498ea9b3-ee04-4038-a8d5-7e9804ec041f');\n",
              "          const dataTable =\n",
              "            await google.colab.kernel.invokeFunction('convertToInteractive',\n",
              "                                                     [key], {});\n",
              "          if (!dataTable) return;\n",
              "\n",
              "          const docLinkHtml = 'Like what you see? Visit the ' +\n",
              "            '<a target=\"_blank\" href=https://colab.research.google.com/notebooks/data_table.ipynb>data table notebook</a>'\n",
              "            + ' to learn more about interactive tables.';\n",
              "          element.innerHTML = '';\n",
              "          dataTable['output_type'] = 'display_data';\n",
              "          await google.colab.output.renderOutput(dataTable, element);\n",
              "          const docLink = document.createElement('div');\n",
              "          docLink.innerHTML = docLinkHtml;\n",
              "          element.appendChild(docLink);\n",
              "        }\n",
              "      </script>\n",
              "    </div>\n",
              "  </div>\n",
              "  "
            ]
          },
          "metadata": {},
          "execution_count": 18
        }
      ]
    },
    {
      "cell_type": "code",
      "source": [
        "markers=['^','s','o']\n",
        "for i, marker in enumerate(markers):\n",
        "    x_data=df[df.target == i]['PC1']\n",
        "    y_data=df[df.target == i]['PC2']\n",
        "    plt.scatter(x_data,y_data,marker=marker,label=wine.target_names[i])\n",
        "\n",
        "plt.legend()\n",
        "plt.xlabel('PCA Component 1'), plt.ylabel('PCA Component2')\n",
        "plt.show()"
      ],
      "metadata": {
        "colab": {
          "base_uri": "https://localhost:8080/",
          "height": 279
        },
        "id": "fgTUlKu5WE92",
        "outputId": "992f29f7-1f3d-47a3-9357-7187cf6ed293"
      },
      "execution_count": 19,
      "outputs": [
        {
          "output_type": "display_data",
          "data": {
            "text/plain": [
              "<Figure size 432x288 with 1 Axes>"
            ],
            "image/png": "[encoded data removed]"
          },
          "metadata": {
            "needs_background": "light"
          }
        }
      ]
    },
    {
      "cell_type": "markdown",
      "source": [
        "### 4.code refactoring"
      ],
      "metadata": {
        "id": "UmgZ4kr-ZNuB"
      }
    },
    {
      "cell_type": "code",
      "source": [
        "def pca_accuracy(X,y):\n",
        "    X_train, X_test, y_train, y_test = train_test_split(\n",
        "    X, \n",
        "    y, \n",
        "    stratify=y, \n",
        "    random_state=123)\n",
        "    rfc=RandomForestClassifier(random_state=123)\n",
        "    rfc.fit(X_train,y_train)\n",
        "    score=rfc.score(X_test,y_test)\n",
        "    return score\n"
      ],
      "metadata": {
        "id": "qugN8oF_WUVh"
      },
      "execution_count": 23,
      "outputs": []
    },
    {
      "cell_type": "code",
      "source": [
        "for n in [2,4,6]:\n",
        "    pca=PCA(n_components=n)\n",
        "    wine_pca=pca.fit_transform(wine_std)\n",
        "    explained=pca.explained_variance_ratio_.sum()\n",
        "    acc=pca_accuracy(wine_pca,wine.target)\n",
        "    print(f'PCA{n}:설명력-{explained:.4f},정확도-{acc:.4f}')\n"
      ],
      "metadata": {
        "colab": {
          "base_uri": "https://localhost:8080/"
        },
        "id": "NhpmVBX_ZhYV",
        "outputId": "a7e2bf02-de9a-475c-e08f-45ef77cf035d"
      },
      "execution_count": 24,
      "outputs": [
        {
          "output_type": "stream",
          "name": "stdout",
          "text": [
            "PCA2:설명력-0.5541,정확도-0.9556\n",
            "PCA4:설명력-0.7360,정확도-0.9556\n",
            "PCA6:설명력-0.8510,정확도-0.9333\n"
          ]
        }
      ]
    },
    {
      "cell_type": "code",
      "source": [
        ""
      ],
      "metadata": {
        "id": "RLQp_W-5ZwQt"
      },
      "execution_count": null,
      "outputs": []
    }
  ]
}